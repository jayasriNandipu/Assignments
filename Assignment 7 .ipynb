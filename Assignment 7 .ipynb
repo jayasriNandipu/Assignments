{
 "cells": [
  {
   "cell_type": "code",
   "execution_count": null,
   "id": "2ca533e5-3602-4de5-a28f-ca6ef19d929c",
   "metadata": {},
   "outputs": [],
   "source": [
    "# # Scenario1:\n",
    "# credit card offer.\n",
    "#  if your salary is less than 10000.  credit limit 10 times of your salary. \n",
    "#  if your salary is 10000 to 30000.  Credit limit is 20 time of your salary.\n",
    "#  if your salary is more than 30000.  Credit limit is 30 times of your salary.\n",
    "#  క్రెడిట్ కార్డ్ ఆఫర్. \n",
    "#  మీ జీతం 10000 కంటే తక్కువ ఉంటే. క్రెడిట్ పరిమితి మీ జీతంకి 10 రెట్లు. \n",
    "#  మీ జీతం 10000 నుండి 30000 వరకు ఉంటే. క్రెడిట్ పరిమితి మీ జీతంలో 20 రెట్లు .\n",
    "#  మీ జీతం 30000 కంటే ఎక్కువ ఉంటే క్రెడిట్ పరిమితి మీ జీతం కంటే 30 రెట్లు.\n"
   ]
  },
  {
   "cell_type": "code",
   "execution_count": null,
   "id": "c70922e5-fcdd-43ca-a2e7-1a8929113016",
   "metadata": {},
   "outputs": [],
   "source": [
    "def credit_offer(salary,credit_limit):\n",
    "    if salary<10000:\n",
    "        credit_limit=salary*10\n",
    "    elif salary>=10000 and salary<=30000:\n",
    "        credit_limit=salary*20\n",
    "    elif salary>30000:\n",
    "        credit_limit=salary*30\n",
    "    else:\n",
    "        print(\"no limits\")\n",
    "    return credit_limit"
   ]
  },
  {
   "cell_type": "code",
   "execution_count": null,
   "id": "81a25c51-3884-4ac7-8ba2-9358bcc1072c",
   "metadata": {},
   "outputs": [],
   "source": [
    "credit_offer(40000,10)"
   ]
  },
  {
   "cell_type": "code",
   "execution_count": null,
   "id": "fb98eb64-285a-4a83-b7c5-f5a187c5e42b",
   "metadata": {},
   "outputs": [],
   "source": []
  },
  {
   "cell_type": "code",
   "execution_count": null,
   "id": "308ad766-9bc5-4c47-b6b3-e0a25423fc9a",
   "metadata": {},
   "outputs": [],
   "source": [
    "  Scenario2:\n",
    "#  DMart discount offer. \n",
    "#  if your purchase amount is less than 20000. discount is 20%.\n",
    "# if your purchase amount is 20000 to 40000. discount is 30%. \n",
    "# if your purchase amount is more than 50000. discount is 40%.\n",
    "\n",
    "# DMart తగ్గింపు ఆఫర్. మీ కొనుగోలు మొత్తం 20000 కంటే తక్కువ ఉంటే. తగ్గింపు 20%.\n",
    "# మీ కొనుగోలు మొత్తం 20000 నుండి 40000 వరకు ఉంటే. తగ్గింపు 30%. \n",
    "# మీ కొనుగోలు మొత్తం 50000 కంటే ఎక్కువ ఉంటే. తగ్గింపు 40%."
   ]
  },
  {
   "cell_type": "code",
   "execution_count": null,
   "id": "652fec9b-92a8-4d51-addf-293e48f0e9af",
   "metadata": {},
   "outputs": [],
   "source": [
    "def dmart(purchase_amount):\n",
    "    if purchase_amount<=20000:\n",
    "        blance=purchase_amount*0.2\n",
    "    elif purchase_amount>=20000 and purchase_amount>=40000:\n",
    "         blance=purchase_amount*0.3\n",
    "    elif purchase_amount>=50000:\n",
    "        blance=purchase_amount*0.4\n",
    "        return blance\n",
    "       "
   ]
  },
  {
   "cell_type": "code",
   "execution_count": null,
   "id": "330685ef-5061-4f34-85e2-87ea7a00130f",
   "metadata": {},
   "outputs": [],
   "source": [
    "dmart(20000)"
   ]
  },
  {
   "cell_type": "code",
   "execution_count": null,
   "id": "f5e81027-2b7b-4d93-b9a0-9a21c7e578d7",
   "metadata": {},
   "outputs": [],
   "source": [
    "dmart(50001)"
   ]
  },
  {
   "cell_type": "code",
   "execution_count": null,
   "id": "1779a007-0fd0-4e3a-98f2-46c0c5e91687",
   "metadata": {},
   "outputs": [],
   "source": [
    "dmart(18000)"
   ]
  },
  {
   "cell_type": "code",
   "execution_count": null,
   "id": "96ff9978-0af3-475a-a8a2-e0dfabe82406",
   "metadata": {},
   "outputs": [],
   "source": []
  },
  {
   "cell_type": "code",
   "execution_count": null,
   "id": "993c8c5e-d610-49b5-952b-935557a7211d",
   "metadata": {},
   "outputs": [],
   "source": [
    "# Scenario3:\n",
    "# Amazom online offer. \n",
    "# if product is electoric type then 20% discount. \n",
    "# if product is cloth type then 30% discount. \n",
    "# if product is footware then 40% discount.\n",
    "# Amazom ఆన్‌లైన్ ఆఫర్.\n",
    "#  ఉత్పత్తి ఎలక్టోరిక్ రకం అయితే 20% తగ్గింపు. \n",
    "#  ఉత్పత్తి వస్త్రం రకం అయితే 30% తగ్గింపు. \n",
    "#  ఉత్పత్తి ఫుట్‌వేర్ అయితే 40% తగ్గింపు.\n"
   ]
  },
  {
   "cell_type": "code",
   "execution_count": null,
   "id": "28967874-9f0f-4297-b363-fb505dc34e7e",
   "metadata": {},
   "outputs": [],
   "source": [
    "def Amazon(product_type):\n",
    "    if product_type==\"Electronic\":\n",
    "        discount=0.2\n",
    "    elif product_type==\"cloth\":\n",
    "        discount=0.3\n",
    "    elif product_type==\"Footware\":\n",
    "        discount=0.4\n",
    "    return discount"
   ]
  },
  {
   "cell_type": "code",
   "execution_count": null,
   "id": "d43b776a-6d16-486f-97c3-b796dc0b070c",
   "metadata": {},
   "outputs": [],
   "source": [
    "Amazon(\"cloth\")"
   ]
  },
  {
   "cell_type": "code",
   "execution_count": null,
   "id": "78507557-5f4f-401a-b9fa-438564e00baa",
   "metadata": {},
   "outputs": [],
   "source": []
  },
  {
   "cell_type": "code",
   "execution_count": null,
   "id": "13323da2-e01c-4665-86c5-b0fe42a216c4",
   "metadata": {},
   "outputs": [],
   "source": []
  },
  {
   "cell_type": "code",
   "execution_count": null,
   "id": "71e1992b-41c7-41a7-983c-0ccc49b6e34e",
   "metadata": {},
   "outputs": [],
   "source": []
  }
 ],
 "metadata": {
  "kernelspec": {
   "display_name": "Python 3 (ipykernel)",
   "language": "python",
   "name": "python3"
  },
  "language_info": {
   "codemirror_mode": {
    "name": "ipython",
    "version": 3
   },
   "file_extension": ".py",
   "mimetype": "text/x-python",
   "name": "python",
   "nbconvert_exporter": "python",
   "pygments_lexer": "ipython3",
   "version": "3.12.4"
  }
 },
 "nbformat": 4,
 "nbformat_minor": 5
}
