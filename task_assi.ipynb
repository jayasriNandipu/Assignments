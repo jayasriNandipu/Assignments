{
 "cells": [
  {
   "cell_type": "code",
   "execution_count": 1,
   "id": "225608c4-9e83-4b0d-8c1a-513115279641",
   "metadata": {},
   "outputs": [],
   "source": [
    "#Assignments \n",
    "#-----------Assignment 4b-------------------------"
   ]
  },
  {
   "cell_type": "code",
   "execution_count": 2,
   "id": "ce737bbb-ad3a-4e93-9387-81407a09eb5b",
   "metadata": {},
   "outputs": [],
   "source": [
    "# 1. Create a 10 variables with your friend names?\n"
   ]
  },
  {
   "cell_type": "code",
   "execution_count": 178,
   "id": "4340c003-6a8e-4849-be0c-8293e904d1b3",
   "metadata": {},
   "outputs": [
    {
     "data": {
      "text/plain": [
       "'ruchitha'"
      ]
     },
     "execution_count": 178,
     "metadata": {},
     "output_type": "execute_result"
    }
   ],
   "source": [
    "friend1=\"ruchitha\"\n",
    "friend1"
   ]
  },
  {
   "cell_type": "code",
   "execution_count": 180,
   "id": "0a7e72d8-ccae-4cab-98c7-aad742e3c981",
   "metadata": {},
   "outputs": [
    {
     "data": {
      "text/plain": [
       "'Santhosh'"
      ]
     },
     "execution_count": 180,
     "metadata": {},
     "output_type": "execute_result"
    }
   ],
   "source": [
    "friend2=\"Santhosh\"\n",
    "friend2"
   ]
  },
  {
   "cell_type": "code",
   "execution_count": 182,
   "id": "76bfbdfc-3399-4e78-a22b-f010d2414e6a",
   "metadata": {},
   "outputs": [
    {
     "data": {
      "text/plain": [
       "'Durga'"
      ]
     },
     "execution_count": 182,
     "metadata": {},
     "output_type": "execute_result"
    }
   ],
   "source": [
    "friend3=\"Durga\"\n",
    "friend3"
   ]
  },
  {
   "cell_type": "code",
   "execution_count": 184,
   "id": "015ad182-a7dd-4968-b127-f7e775aa2970",
   "metadata": {},
   "outputs": [
    {
     "data": {
      "text/plain": [
       "'Nasheena'"
      ]
     },
     "execution_count": 184,
     "metadata": {},
     "output_type": "execute_result"
    }
   ],
   "source": [
    "friend4=\"Nasheena\"\n",
    "friend4"
   ]
  },
  {
   "cell_type": "code",
   "execution_count": 186,
   "id": "c3d9c819-a35e-4918-b99e-8e579cfdf4d3",
   "metadata": {},
   "outputs": [],
   "source": [
    "# 2. Create a 10 variables with your family member names?\n",
    "familymember1=\"Janardhanrao\"\n",
    "familmember2=\"Lakshmi\"\n",
    "familymember3=\"Mounika\"\n",
    "familymember4=\"Prasad\""
   ]
  },
  {
   "cell_type": "code",
   "execution_count": 188,
   "id": "4fba6f25-7487-4244-8fcf-575b2ce2625a",
   "metadata": {},
   "outputs": [
    {
     "data": {
      "text/plain": [
       "'Janardhanrao'"
      ]
     },
     "execution_count": 188,
     "metadata": {},
     "output_type": "execute_result"
    }
   ],
   "source": [
    "familymember1"
   ]
  },
  {
   "cell_type": "code",
   "execution_count": 190,
   "id": "4af01a5f-592b-4b41-ba40-f8c48693af17",
   "metadata": {},
   "outputs": [
    {
     "data": {
      "text/plain": [
       "'Lakshmi'"
      ]
     },
     "execution_count": 190,
     "metadata": {},
     "output_type": "execute_result"
    }
   ],
   "source": [
    "familmember2"
   ]
  },
  {
   "cell_type": "code",
   "execution_count": 192,
   "id": "3ea3f6c2-8d91-4bfd-952e-5e66eb2d4cad",
   "metadata": {},
   "outputs": [
    {
     "data": {
      "text/plain": [
       "'Mounika'"
      ]
     },
     "execution_count": 192,
     "metadata": {},
     "output_type": "execute_result"
    }
   ],
   "source": [
    "familymember3"
   ]
  },
  {
   "cell_type": "code",
   "execution_count": 194,
   "id": "7c4b32f9-174e-44ab-b8b5-0e9348865020",
   "metadata": {},
   "outputs": [
    {
     "data": {
      "text/plain": [
       "'Prasad'"
      ]
     },
     "execution_count": 194,
     "metadata": {},
     "output_type": "execute_result"
    }
   ],
   "source": [
    "familymember4"
   ]
  },
  {
   "cell_type": "code",
   "execution_count": 198,
   "id": "bc964d83-a1a1-4334-890f-3e9eb341419c",
   "metadata": {},
   "outputs": [],
   "source": [
    "# 3. Create a 10 variables with favorite food names?\n",
    "fav1=\"potato\"\n",
    "fav2=\"chicken\"\n",
    "fav3=\"Fiash\""
   ]
  },
  {
   "cell_type": "code",
   "execution_count": 200,
   "id": "906b3090-2535-42eb-9b00-a881162b0b14",
   "metadata": {},
   "outputs": [
    {
     "data": {
      "text/plain": [
       "'potato'"
      ]
     },
     "execution_count": 200,
     "metadata": {},
     "output_type": "execute_result"
    }
   ],
   "source": [
    "fav1"
   ]
  },
  {
   "cell_type": "code",
   "execution_count": 202,
   "id": "896ffc7b-6640-4361-8e33-3b7273e70fba",
   "metadata": {},
   "outputs": [
    {
     "data": {
      "text/plain": [
       "'chicken'"
      ]
     },
     "execution_count": 202,
     "metadata": {},
     "output_type": "execute_result"
    }
   ],
   "source": [
    "fav2"
   ]
  },
  {
   "cell_type": "code",
   "execution_count": 204,
   "id": "813b54bf-b4ff-4336-9705-bcee82bc337e",
   "metadata": {},
   "outputs": [
    {
     "data": {
      "text/plain": [
       "'Fiash'"
      ]
     },
     "execution_count": 204,
     "metadata": {},
     "output_type": "execute_result"
    }
   ],
   "source": [
    "fav3"
   ]
  },
  {
   "cell_type": "code",
   "execution_count": 206,
   "id": "50aac660-d266-4303-8ff8-81e0359bcac1",
   "metadata": {},
   "outputs": [],
   "source": [
    "# 4. Create a 10 variables with colour  names?\n",
    "colour1=\"REd\"\n",
    "colour2=\"Blue\"\n",
    "colour3=\"Green\""
   ]
  },
  {
   "cell_type": "code",
   "execution_count": 208,
   "id": "33dd2008-4aa6-459b-9c7f-1e5526f358c6",
   "metadata": {},
   "outputs": [
    {
     "data": {
      "text/plain": [
       "'REd'"
      ]
     },
     "execution_count": 208,
     "metadata": {},
     "output_type": "execute_result"
    }
   ],
   "source": [
    "colour1"
   ]
  },
  {
   "cell_type": "code",
   "execution_count": 210,
   "id": "f9ffca92-6dcc-40dc-8b86-3c0184ba7042",
   "metadata": {},
   "outputs": [
    {
     "data": {
      "text/plain": [
       "'Blue'"
      ]
     },
     "execution_count": 210,
     "metadata": {},
     "output_type": "execute_result"
    }
   ],
   "source": [
    "colour2"
   ]
  },
  {
   "cell_type": "code",
   "execution_count": 212,
   "id": "970159d7-8fe8-4fb8-9ee9-a7df4363b5a6",
   "metadata": {},
   "outputs": [
    {
     "data": {
      "text/plain": [
       "'Green'"
      ]
     },
     "execution_count": 212,
     "metadata": {},
     "output_type": "execute_result"
    }
   ],
   "source": [
    "colour3"
   ]
  },
  {
   "cell_type": "code",
   "execution_count": null,
   "id": "9aca1014-cdae-4289-bb31-5d692f90fb49",
   "metadata": {},
   "outputs": [],
   "source": []
  },
  {
   "cell_type": "code",
   "execution_count": null,
   "id": "8c03717b-1731-4f56-91bc-5035c002e5ad",
   "metadata": {},
   "outputs": [],
   "source": []
  },
  {
   "cell_type": "code",
   "execution_count": 214,
   "id": "43f91e72-951f-4c13-8de0-e292336c16c6",
   "metadata": {},
   "outputs": [],
   "source": [
    "# 5. Create a 12 variables with month  names?\n",
    "month1=\"January\"\n",
    "month2=\"February\"\n",
    "month3=\"March\"\n",
    "month4=\"April\""
   ]
  },
  {
   "cell_type": "code",
   "execution_count": 216,
   "id": "04026192-5a7b-4c3e-8461-a4192702bb4b",
   "metadata": {},
   "outputs": [
    {
     "data": {
      "text/plain": [
       "'January'"
      ]
     },
     "execution_count": 216,
     "metadata": {},
     "output_type": "execute_result"
    }
   ],
   "source": [
    "month1"
   ]
  },
  {
   "cell_type": "code",
   "execution_count": 218,
   "id": "b268cb3a-3118-4f23-80b0-9658358b006c",
   "metadata": {},
   "outputs": [
    {
     "data": {
      "text/plain": [
       "'February'"
      ]
     },
     "execution_count": 218,
     "metadata": {},
     "output_type": "execute_result"
    }
   ],
   "source": [
    "month2"
   ]
  },
  {
   "cell_type": "code",
   "execution_count": 220,
   "id": "7d583ce4-5a88-478d-b271-e2bd9c54d894",
   "metadata": {},
   "outputs": [
    {
     "data": {
      "text/plain": [
       "'March'"
      ]
     },
     "execution_count": 220,
     "metadata": {},
     "output_type": "execute_result"
    }
   ],
   "source": [
    "month3"
   ]
  },
  {
   "cell_type": "code",
   "execution_count": 222,
   "id": "3809713c-d6dc-43b4-a2d5-13fe21fded28",
   "metadata": {},
   "outputs": [
    {
     "data": {
      "text/plain": [
       "'April'"
      ]
     },
     "execution_count": 222,
     "metadata": {},
     "output_type": "execute_result"
    }
   ],
   "source": [
    "month4"
   ]
  },
  {
   "cell_type": "code",
   "execution_count": 224,
   "id": "6542e4f4-89c2-460a-b3d1-d871d17ad541",
   "metadata": {},
   "outputs": [],
   "source": [
    "# 6. Create a 10 variables with game  names?\n",
    "game1=\"Cricket\"\n",
    "game2=\"Hockey\"\n",
    "game3=\"Volleyball\"\n"
   ]
  },
  {
   "cell_type": "code",
   "execution_count": 226,
   "id": "09e78f8a-41ae-47a1-97e6-8b9640f525af",
   "metadata": {},
   "outputs": [
    {
     "data": {
      "text/plain": [
       "'Cricket'"
      ]
     },
     "execution_count": 226,
     "metadata": {},
     "output_type": "execute_result"
    }
   ],
   "source": [
    "game1"
   ]
  },
  {
   "cell_type": "code",
   "execution_count": 228,
   "id": "59ce29b7-5a1f-4f30-ad6a-f8e5845d7d4f",
   "metadata": {},
   "outputs": [
    {
     "data": {
      "text/plain": [
       "'Hockey'"
      ]
     },
     "execution_count": 228,
     "metadata": {},
     "output_type": "execute_result"
    }
   ],
   "source": [
    "game2"
   ]
  },
  {
   "cell_type": "code",
   "execution_count": 230,
   "id": "82c48712-aa32-4b29-9d87-fe03b47f2358",
   "metadata": {},
   "outputs": [
    {
     "data": {
      "text/plain": [
       "'Volleyball'"
      ]
     },
     "execution_count": 230,
     "metadata": {},
     "output_type": "execute_result"
    }
   ],
   "source": [
    "game3"
   ]
  },
  {
   "cell_type": "code",
   "execution_count": 232,
   "id": "186d8aa3-7aa7-4172-bc6b-c3725d0fddb0",
   "metadata": {},
   "outputs": [],
   "source": [
    "# 7. Create a 10 variables with city  names?\n",
    "city1=\"Pamarru\"\n",
    "city2=\"Guduru\"\n",
    "city3=\"MTM\""
   ]
  },
  {
   "cell_type": "code",
   "execution_count": 234,
   "id": "74740821-be21-41b2-a712-428149789ab7",
   "metadata": {},
   "outputs": [
    {
     "data": {
      "text/plain": [
       "'Pamarru'"
      ]
     },
     "execution_count": 234,
     "metadata": {},
     "output_type": "execute_result"
    }
   ],
   "source": [
    "city1"
   ]
  },
  {
   "cell_type": "code",
   "execution_count": 236,
   "id": "d96cef04-be99-4c98-933d-f33ad6649496",
   "metadata": {},
   "outputs": [
    {
     "data": {
      "text/plain": [
       "'Guduru'"
      ]
     },
     "execution_count": 236,
     "metadata": {},
     "output_type": "execute_result"
    }
   ],
   "source": [
    "city2"
   ]
  },
  {
   "cell_type": "code",
   "execution_count": 238,
   "id": "59030f4d-ca00-47df-8055-3878d489be9b",
   "metadata": {},
   "outputs": [
    {
     "data": {
      "text/plain": [
       "'MTM'"
      ]
     },
     "execution_count": 238,
     "metadata": {},
     "output_type": "execute_result"
    }
   ],
   "source": [
    "city3"
   ]
  },
  {
   "cell_type": "code",
   "execution_count": 3,
   "id": "913329cd-716d-4672-9987-7044ab62ec18",
   "metadata": {},
   "outputs": [
    {
     "data": {
      "text/plain": [
       "['ruchitha',\n",
       " 'geetha',\n",
       " 'hareesh',\n",
       " 'supraja',\n",
       " 'sai',\n",
       " 'lakshmi',\n",
       " 'divya',\n",
       " 'krupa',\n",
       " 'rajini',\n",
       " 'swarna']"
      ]
     },
     "execution_count": 3,
     "metadata": {},
     "output_type": "execute_result"
    }
   ],
   "source": [
    "#-----------list------------\n",
    "friends_names=[\"ruchitha\",\"geetha\",\"hareesh\",\"supraja\",\"sai\",\"lakshmi\",\"divya\",\"krupa\",\"rajini\",\"swarna\"]\n",
    "friends_names\n",
    "\n"
   ]
  },
  {
   "cell_type": "code",
   "execution_count": 4,
   "id": "a058a1e9-94b1-4f53-9a33-2350b4ff5ee4",
   "metadata": {},
   "outputs": [
    {
     "data": {
      "text/plain": [
       "('Janardhnarao',\n",
       " 'Lakshmi',\n",
       " 'Mounika',\n",
       " 'Jayasri',\n",
       " 'Devivaraprasad',\n",
       " 'Rajasekhar',\n",
       " 'Balakrishna',\n",
       " 'Rakesh',\n",
       " 'Rangamma',\n",
       " 'Bhanu')"
      ]
     },
     "execution_count": 4,
     "metadata": {},
     "output_type": "execute_result"
    }
   ],
   "source": [
    "#------tuple------\n",
    "family_members=(\"Janardhnarao\",\"Lakshmi\",\"Mounika\",\"Jayasri\",\"Devivaraprasad\",\"Rajasekhar\",\"Balakrishna\",\"Rakesh\",\"Rangamma\",\"Bhanu\")\n",
    "family_members"
   ]
  },
  {
   "cell_type": "code",
   "execution_count": 5,
   "id": "deae2b25-b554-4b6d-ae61-fbc6d18c09e9",
   "metadata": {},
   "outputs": [
    {
     "data": {
      "text/plain": [
       "{'black',\n",
       " 'blue',\n",
       " 'brown',\n",
       " 'green',\n",
       " 'orange',\n",
       " 'pink',\n",
       " 'red',\n",
       " 'skyblue',\n",
       " 'white',\n",
       " 'yellow'}"
      ]
     },
     "execution_count": 5,
     "metadata": {},
     "output_type": "execute_result"
    }
   ],
   "source": [
    "#------set------\n",
    "colour={\"red\",\"blue\",\"green\",\"yellow\",\"red\",\"black\",\"brown\",\"skyblue\",\"pink\",\"white\",\"orange\",\"white\"}\n",
    "colour"
   ]
  },
  {
   "cell_type": "code",
   "execution_count": 6,
   "id": "55f3eef8-33f8-4594-ae2a-b59084b2850f",
   "metadata": {},
   "outputs": [],
   "source": [
    "#---- month_names=[1,9,10,5,3,2,7,8,6,4] , sort the list--> write a program?"
   ]
  },
  {
   "cell_type": "code",
   "execution_count": 7,
   "id": "d5e4b047-bc92-4fd0-9136-02e0acc37da7",
   "metadata": {},
   "outputs": [
    {
     "data": {
      "text/plain": [
       "{1, 2, 3, 4, 5, 6, 7, 8, 9, 10}"
      ]
     },
     "execution_count": 7,
     "metadata": {},
     "output_type": "execute_result"
    }
   ],
   "source": [
    "month_names=[1,9,10,5,3,2,7,8,6,4]\n",
    "sort= set(month_names)\n",
    "sort"
   ]
  },
  {
   "cell_type": "code",
   "execution_count": 8,
   "id": "37733236-3463-42a9-a6e9-10345b892e1c",
   "metadata": {},
   "outputs": [],
   "source": [
    "# tollywood_heros=[\"chiru\", \"balaya\", \"nag\",\"venky\",\"powerstar\",\"superstar\",\"ntr\",\"ramcharan\"], write a program?\n",
    "# expected output:tollywood_heros=[\"chiranjeevi\", \"balakrishan\", \"nagarjuna\",\"venky\",\"pawan kalyan\",\"maheshbabu\",\"NT rama rao\",\"ramcharan\"]\n"
   ]
  },
  {
   "cell_type": "code",
   "execution_count": 9,
   "id": "82f154b2-3461-42a7-bcc2-615115f4c054",
   "metadata": {},
   "outputs": [],
   "source": [
    "tollywood_heros=[\"chiru\", \"balaya\", \"nag\",\"venky\",\"powerstar\",\"superstar\",\"ntr\",\"ramcharan\"]"
   ]
  },
  {
   "cell_type": "code",
   "execution_count": 10,
   "id": "aae04793-ca2e-40f3-a33e-6e0af1899de1",
   "metadata": {},
   "outputs": [],
   "source": [
    "tollywood_heros[0]='Chereenjeevi'\n",
    "tollywood_heros[1]='balakrishan'\n",
    "tollywood_heros[2]='nagarjuna'\n",
    "tollywood_heros[3]='venkatesh'\n",
    "tollywood_heros[4]='pavankalyan'\n",
    "tollywood_heros[5]='maheshbabu'\n",
    "tollywood_heros[6]='NT rama rao'\n",
    "tollywood_heros[7]='ramcharan'\n"
   ]
  },
  {
   "cell_type": "code",
   "execution_count": 11,
   "id": "f5340fd1-e9bc-40f5-92d1-34842d84a3b6",
   "metadata": {},
   "outputs": [
    {
     "data": {
      "text/plain": [
       "['Chereenjeevi',\n",
       " 'balakrishan',\n",
       " 'nagarjuna',\n",
       " 'venkatesh',\n",
       " 'pavankalyan',\n",
       " 'maheshbabu',\n",
       " 'NT rama rao',\n",
       " 'ramcharan']"
      ]
     },
     "execution_count": 11,
     "metadata": {},
     "output_type": "execute_result"
    }
   ],
   "source": [
    "tollywood_heros"
   ]
  },
  {
   "cell_type": "code",
   "execution_count": 12,
   "id": "c05637d9-23c4-4fac-b28c-e5e70bc04094",
   "metadata": {},
   "outputs": [],
   "source": [
    "#bollywood_heros=[\"sharukkhan\", \"salmankhan\", \"salmankhan\",\"amirkhan\",\"HrithikRoshan\",\"Amitabh Bachchan\",\"Akshay Kumar\",\"amirkhan\"], \n",
    "# write a program to remove duplicates?"
   ]
  },
  {
   "cell_type": "code",
   "execution_count": 13,
   "id": "f847dcae-9019-4c36-b340-b8917ecd99e2",
   "metadata": {},
   "outputs": [
    {
     "data": {
      "text/plain": [
       "{'Akshay Kumar',\n",
       " 'Amitabh Bachchan',\n",
       " 'HrithikRoshan',\n",
       " 'amirkhan',\n",
       " 'salmankhan',\n",
       " 'sharukkhan'}"
      ]
     },
     "execution_count": 13,
     "metadata": {},
     "output_type": "execute_result"
    }
   ],
   "source": [
    "bollywood_heros=[\"sharukkhan\", \"salmankhan\", \"salmankhan\",\"amirkhan\",\"HrithikRoshan\",\"Amitabh Bachchan\",\"Akshay Kumar\",\"amirkhan\"]\n",
    "final=set(bollywood_heros)\n",
    "final"
   ]
  },
  {
   "cell_type": "code",
   "execution_count": 14,
   "id": "71f3d402-f3fd-40a6-84b0-133a849c1e57",
   "metadata": {},
   "outputs": [],
   "source": [
    "#--breakfast_items=[\"upma\",\"dosa\",\"idly\",\"puri\",\"punugulu\",\"roti\",\"chapathi\", \"parota\",\"mysoor baji\",\"minapa baji\"], \n",
    "# print your favorite breakfast itme?\n",
    "# example: My Favorite breakfast time is mysoor baji\n"
   ]
  },
  {
   "cell_type": "code",
   "execution_count": 15,
   "id": "38ed2b83-d824-4bac-be66-64df63f79413",
   "metadata": {},
   "outputs": [],
   "source": [
    "breakfast_items=[\"upma\",\"dosa\",\"idly\",\"puri\",\"punugulu\",\"roti\",\"chapathi\", \"parota\",\"mysoor baji\",\"minapa baji\"]"
   ]
  },
  {
   "cell_type": "code",
   "execution_count": 16,
   "id": "bc92d520-2c2e-4b04-9f82-343a4ec9800f",
   "metadata": {},
   "outputs": [
    {
     "data": {
      "text/plain": [
       "'mysoor baji'"
      ]
     },
     "execution_count": 16,
     "metadata": {},
     "output_type": "execute_result"
    }
   ],
   "source": [
    "breakfast_items[-2]"
   ]
  },
  {
   "cell_type": "code",
   "execution_count": null,
   "id": "e3f464ad-f910-4373-84da-5589e474f3cb",
   "metadata": {},
   "outputs": [],
   "source": []
  },
  {
   "cell_type": "code",
   "execution_count": null,
   "id": "849d4afb-2b0d-4954-b5ba-4cd07b9747cc",
   "metadata": {},
   "outputs": [],
   "source": []
  },
  {
   "cell_type": "code",
   "execution_count": 17,
   "id": "d9fb11ec-361d-4650-b32e-a69d50efe6df",
   "metadata": {},
   "outputs": [],
   "source": [
    "#---------Assignment 5 A-----------------"
   ]
  },
  {
   "cell_type": "code",
   "execution_count": 18,
   "id": "03acfe72-f7ed-4226-83bc-c4755e573197",
   "metadata": {},
   "outputs": [],
   "source": [
    "# Create a dict with your family members(at least 10 names)?\n",
    "# expected output : { \"family_members\" : your family member details}\n"
   ]
  },
  {
   "cell_type": "code",
   "execution_count": 19,
   "id": "c8a7c355-d945-4444-b5ab-7bf5cd7ee54d",
   "metadata": {},
   "outputs": [
    {
     "data": {
      "text/plain": [
       "{'family_members': ['jayasri',\n",
       "  'mounika',\n",
       "  'prasad',\n",
       "  'janardhna rao',\n",
       "  'lakshmi',\n",
       "  'rajini',\n",
       "  'basavaiah',\n",
       "  'rakesh',\n",
       "  'rajasekhar',\n",
       "  'srinivas']}"
      ]
     },
     "execution_count": 19,
     "metadata": {},
     "output_type": "execute_result"
    }
   ],
   "source": [
    "dict1={\"family_members\":[\"jayasri\",\"mounika\",\"prasad\",\"janardhna rao\",\"lakshmi\",\"rajini\",\"basavaiah\",\"rakesh\",\"rajasekhar\",\"srinivas\"]}\n",
    "dict1"
   ]
  },
  {
   "cell_type": "code",
   "execution_count": 20,
   "id": "0557dc55-fe42-405b-a835-0be89d4cc98f",
   "metadata": {},
   "outputs": [],
   "source": [
    "# Create a dict with your family members and relations(at least 10 names and relations)?\n",
    "# Expected output: { \"family_members\" : your family member details , \"relations\": your relation with your family member}\n",
    "# write a program to print your father name?\n",
    "# write a program to print your favorite family member name?\n",
    "\n"
   ]
  },
  {
   "cell_type": "code",
   "execution_count": 21,
   "id": "bd1e5b23-6745-4588-a2dd-ee467f54b6dd",
   "metadata": {},
   "outputs": [
    {
     "data": {
      "text/plain": [
       "{'family_members': ['jayasri',\n",
       "  'mounika',\n",
       "  'prasad',\n",
       "  'janardhna rao',\n",
       "  'lakshmi',\n",
       "  'rajini',\n",
       "  'basavaiah',\n",
       "  'rakesh',\n",
       "  'rajasekhar',\n",
       "  'srinivas'],\n",
       " 'relations': ['my self',\n",
       "  'sister',\n",
       "  'brother',\n",
       "  'father',\n",
       "  'mother',\n",
       "  'sister in law',\n",
       "  'grand father',\n",
       "  'brother',\n",
       "  'brother',\n",
       "  'brother']}"
      ]
     },
     "execution_count": 21,
     "metadata": {},
     "output_type": "execute_result"
    }
   ],
   "source": [
    "dict2={\"family_members\":[\"jayasri\",\"mounika\",\"prasad\",\"janardhna rao\",\"lakshmi\",\"rajini\",\"basavaiah\",\"rakesh\",\"rajasekhar\",\"srinivas\"],\"relations\":[\"my self\",\"sister\",\"brother\",\"father\",\"mother\",\"sister in law\",\"grand father\",\"brother\",\"brother\",\"brother\"]}\n",
    "dict2"
   ]
  },
  {
   "cell_type": "code",
   "execution_count": 22,
   "id": "260b511b-28b3-4b59-a6b3-df21b72ebbb1",
   "metadata": {},
   "outputs": [
    {
     "name": "stdout",
     "output_type": "stream",
     "text": [
      "favourite person: janardhna rao\n"
     ]
    }
   ],
   "source": [
    "fav_person=dict2[\"family_members\"][-7]\n",
    "print(\"favourite person:\",fav_person)"
   ]
  },
  {
   "cell_type": "code",
   "execution_count": 23,
   "id": "940d322f-7d94-4b93-9a9c-9667e60f1af8",
   "metadata": {},
   "outputs": [
    {
     "name": "stdout",
     "output_type": "stream",
     "text": [
      "father name: janardhna rao\n"
     ]
    }
   ],
   "source": [
    "fav_person=dict2[\"family_members\"][-7]\n",
    "print(\"father name:\",fav_person)"
   ]
  },
  {
   "cell_type": "code",
   "execution_count": 24,
   "id": "9e2640bc-7346-4547-94ee-f8e451bdd48c",
   "metadata": {},
   "outputs": [],
   "source": [
    "# Create a your friend names and their quality(at least 10 names)?\n",
    "# Expected output: {\"friend_names\" : your friend names, \"quality\" : your friend quality}\n",
    "# Example output: {\"friend_names\": [\"ravi\",\"shekar\", \"abbas\",\"jhonny\"], \"quality\" : [\"talk active\", \"anger\", \"intelligent\", \"funny\"]}\n",
    "# write a program to print your intelligent friend name?\n",
    "# write a program to print your best friend name?\n",
    "\n"
   ]
  },
  {
   "cell_type": "code",
   "execution_count": 25,
   "id": "69ed6325-ad50-4266-b326-0a97c1049cab",
   "metadata": {},
   "outputs": [
    {
     "data": {
      "text/plain": [
       "{'friends_names': ['ruchitha',\n",
       "  'geetha',\n",
       "  'hareesh',\n",
       "  'supraja',\n",
       "  'sai',\n",
       "  'lakshmi',\n",
       "  'divya',\n",
       "  'krupa',\n",
       "  'rajini',\n",
       "  'swarna'],\n",
       " 'quality': ['spititcual',\n",
       "  'innocent',\n",
       "  'silent killer',\n",
       "  'intelligent',\n",
       "  'anger',\n",
       "  'silent',\n",
       "  'funny',\n",
       "  'brave girl',\n",
       "  'joy',\n",
       "  'comedian']}"
      ]
     },
     "execution_count": 25,
     "metadata": {},
     "output_type": "execute_result"
    }
   ],
   "source": [
    "dictt={\"friends_names\":[\"ruchitha\",\"geetha\",\"hareesh\",\"supraja\",\"sai\",\"lakshmi\",\"divya\",\"krupa\",\"rajini\",\"swarna\"],\"quality\":[\"spititcual\",\"innocent\",\"silent killer\",\"intelligent\",\"anger\",\"silent\",\"funny\",\"brave girl\",\"joy\",\"comedian\"]}\n",
    "dictt"
   ]
  },
  {
   "cell_type": "code",
   "execution_count": 26,
   "id": "114d63bd-ed95-4621-a373-a4a740533fb3",
   "metadata": {},
   "outputs": [
    {
     "name": "stdout",
     "output_type": "stream",
     "text": [
      "intelligent friend: supraja\n"
     ]
    }
   ],
   "source": [
    "intelligent=dictt['friends_names'][-7]\n",
    "print(\"intelligent friend:\",intelligent)"
   ]
  },
  {
   "cell_type": "code",
   "execution_count": 27,
   "id": "9749f3d8-a179-4520-b80b-aaac870006bd",
   "metadata": {},
   "outputs": [
    {
     "name": "stdout",
     "output_type": "stream",
     "text": [
      "best friend: supraja\n"
     ]
    }
   ],
   "source": [
    "best=dictt['friends_names'][-7]\n",
    "print(\"best friend:\",best)"
   ]
  },
  {
   "cell_type": "code",
   "execution_count": 28,
   "id": "191a22e1-4d4b-4b2c-a72d-bca15acad9ff",
   "metadata": {},
   "outputs": [],
   "source": [
    "# Create a your favorite food names and your rating(at least 10 names)?\n",
    "# Expected output: {\"veg_items\" : food names, \"rating\" : your rating}\n",
    "# {\"nonveg_items\" : food names, \"rating\" : your rating}\n",
    "# write a program to print your rating 1 food name?\n",
    "\n"
   ]
  },
  {
   "cell_type": "code",
   "execution_count": 29,
   "id": "02792aba-fc8a-4626-b2c1-ee63bf358eaf",
   "metadata": {},
   "outputs": [
    {
     "data": {
      "text/plain": [
       "{'non_veg_items': ['chicken',\n",
       "  'fish',\n",
       "  'egg',\n",
       "  'egg fride rice',\n",
       "  'chicken fride rice:',\n",
       "  'egg fride rice',\n",
       "  'chicken manchuriya',\n",
       "  'egg manchuriya'],\n",
       " 'veg_items': ['potato',\n",
       "  'ladies finger',\n",
       "  'brinjal',\n",
       "  'carrot',\n",
       "  'onions',\n",
       "  'cabage',\n",
       "  'califlower',\n",
       "  'bitter guared'],\n",
       " 'rating': [1, 2, 3, 4, 5, 6, 7, 8]}"
      ]
     },
     "execution_count": 29,
     "metadata": {},
     "output_type": "execute_result"
    }
   ],
   "source": [
    "dictt4={\"non_veg_items\":[\"chicken\",\"fish\",\"egg\",\"egg fride rice\",\"chicken fride rice:\",\"egg fride rice\",\"chicken manchuriya\",\"egg manchuriya\"],\"veg_items\":[\"potato\",\"ladies finger\",\"brinjal\",\"carrot\",\"onions\",\"cabage\",\"califlower\",\"bitter guared\"],\"rating\":[1,2,3,4,5,6,7,8]}\n",
    "dictt4"
   ]
  },
  {
   "cell_type": "code",
   "execution_count": 30,
   "id": "d5549762-2f53-4fb7-b5b8-583b0f51deb7",
   "metadata": {},
   "outputs": [
    {
     "data": {
      "text/plain": [
       "'potato'"
      ]
     },
     "execution_count": 30,
     "metadata": {},
     "output_type": "execute_result"
    }
   ],
   "source": [
    "dictt4['veg_items'][-8]"
   ]
  },
  {
   "cell_type": "code",
   "execution_count": null,
   "id": "fc0a20dd-720e-4c99-b454-444de84076e9",
   "metadata": {},
   "outputs": [],
   "source": []
  },
  {
   "cell_type": "code",
   "execution_count": 31,
   "id": "6bb2dd49-9d9f-4a2f-822f-82c6c8bf87b4",
   "metadata": {},
   "outputs": [],
   "source": [
    "# Create a your favorite destination(cities) names and your rating(at least 10 names)?\n",
    "# Expected output: {\"destination\" : cities name, \"rating\" : your rating}\n",
    "\n"
   ]
  },
  {
   "cell_type": "code",
   "execution_count": 32,
   "id": "cbd39114-6587-4606-af34-0fe13ddf70b6",
   "metadata": {},
   "outputs": [
    {
     "data": {
      "text/plain": [
       "{'favourite_destination': ['delhi',\n",
       "  'araku',\n",
       "  'vijayawada',\n",
       "  'simla',\n",
       "  'vizag',\n",
       "  'ootii',\n",
       "  'kodaikenal',\n",
       "  'manalii'],\n",
       " 'ratings': [7, 2, 3, 4, 8, 5, 6, 1]}"
      ]
     },
     "execution_count": 32,
     "metadata": {},
     "output_type": "execute_result"
    }
   ],
   "source": [
    "dictt5={\"favourite_destination\":[\"delhi\",\"araku\",\"vijayawada\",\"simla\",\"vizag\",\"ootii\",\"kodaikenal\",\"manalii\"],\"ratings\":[7,2,3,4,8,5,6,1]}\n",
    "dictt5"
   ]
  },
  {
   "cell_type": "code",
   "execution_count": 33,
   "id": "fe305e57-c6af-4cac-9733-b8f563c3561f",
   "metadata": {},
   "outputs": [
    {
     "data": {
      "text/plain": [
       "(['delhi', 'araku', 'vijayawada'], 'ratings')"
      ]
     },
     "execution_count": 33,
     "metadata": {},
     "output_type": "execute_result"
    }
   ],
   "source": [
    "dictt5['favourite_destination'][0:3],['ratings'][0]"
   ]
  },
  {
   "cell_type": "code",
   "execution_count": null,
   "id": "8f36b782-2260-464f-a202-0df9ae7b15e6",
   "metadata": {},
   "outputs": [],
   "source": []
  },
  {
   "cell_type": "code",
   "execution_count": 34,
   "id": "07b59ce0-155d-4249-91b5-475350665bce",
   "metadata": {},
   "outputs": [],
   "source": [
    "#----------Assignment 5B--------------"
   ]
  },
  {
   "cell_type": "code",
   "execution_count": null,
   "id": "43b038d6-62b5-4544-8a42-a73a1574856a",
   "metadata": {},
   "outputs": [],
   "source": []
  },
  {
   "cell_type": "code",
   "execution_count": 35,
   "id": "e0d2569d-02f2-4ef0-b291-261f9424bb47",
   "metadata": {},
   "outputs": [],
   "source": [
    "#-----------------Assignment 6 a -------------------------"
   ]
  },
  {
   "cell_type": "code",
   "execution_count": null,
   "id": "b2b121e8-80dc-430c-b00e-07481bfdc0aa",
   "metadata": {},
   "outputs": [],
   "source": [
    "\n",
    "\n"
   ]
  },
  {
   "cell_type": "code",
   "execution_count": 36,
   "id": "c599b54b-3c28-4e45-bc28-d2fe3c34a017",
   "metadata": {},
   "outputs": [],
   "source": [
    "#  Create a list(friend_names) with your friends names(atleaste 10 names)?\n",
    "# print all names with in loop \n",
    "# Expected Output: my friend name is \"ravi\"\n",
    "# \t\t     my friend name is \"shanker\""
   ]
  },
  {
   "cell_type": "code",
   "execution_count": 37,
   "id": "ad2ad7dc-a770-43da-b142-85d1dc605835",
   "metadata": {},
   "outputs": [
    {
     "data": {
      "text/plain": [
       "['ruchitha',\n",
       " 'geetha',\n",
       " 'hareesh',\n",
       " 'supraja',\n",
       " 'sai',\n",
       " 'lakshmi',\n",
       " 'divya',\n",
       " 'krupa',\n",
       " 'rajini',\n",
       " 'swarna']"
      ]
     },
     "execution_count": 37,
     "metadata": {},
     "output_type": "execute_result"
    }
   ],
   "source": [
    "friends_names=[\"ruchitha\",\"geetha\",\"hareesh\",\"supraja\",\"sai\",\"lakshmi\",\"divya\",\"krupa\",\"rajini\",\"swarna\"]\n",
    "friends_names"
   ]
  },
  {
   "cell_type": "code",
   "execution_count": 38,
   "id": "4729e764-3f02-443a-a19a-1b364fd5c678",
   "metadata": {},
   "outputs": [
    {
     "name": "stdout",
     "output_type": "stream",
     "text": [
      "my friend name is: ruchitha\n",
      "my friend name is: geetha\n",
      "my friend name is: hareesh\n",
      "my friend name is: supraja\n",
      "my friend name is: sai\n",
      "my friend name is: lakshmi\n",
      "my friend name is: divya\n",
      "my friend name is: krupa\n",
      "my friend name is: rajini\n",
      "my friend name is: swarna\n"
     ]
    }
   ],
   "source": [
    "for i in friends_names:\n",
    "    print(\"my friend name is:\",i)"
   ]
  },
  {
   "cell_type": "code",
   "execution_count": 39,
   "id": "29e736d4-c6ca-4b38-b7e4-26107e81aa50",
   "metadata": {},
   "outputs": [],
   "source": [
    "# 7. Create a list(family_members) with your family members names(atleaste 10 names)?\n",
    "# print all names with in loop "
   ]
  },
  {
   "cell_type": "code",
   "execution_count": 40,
   "id": "0c2b8d12-a25e-4b32-af65-2b3741d96178",
   "metadata": {},
   "outputs": [
    {
     "data": {
      "text/plain": [
       "('Janardhnarao',\n",
       " 'Lakshmi',\n",
       " 'Mounika',\n",
       " 'Jayasri',\n",
       " 'Devivaraprasad',\n",
       " 'Rajasekhar',\n",
       " 'Balakrishna',\n",
       " 'Rakesh',\n",
       " 'Rangamma',\n",
       " 'Bhanu')"
      ]
     },
     "execution_count": 40,
     "metadata": {},
     "output_type": "execute_result"
    }
   ],
   "source": [
    "family_members=(\"Janardhnarao\",\"Lakshmi\",\"Mounika\",\"Jayasri\",\"Devivaraprasad\",\"Rajasekhar\",\"Balakrishna\",\"Rakesh\",\"Rangamma\",\"Bhanu\")\n",
    "family_members"
   ]
  },
  {
   "cell_type": "code",
   "execution_count": 41,
   "id": "9d5f65bc-8672-4c5a-b330-ade01c647f5d",
   "metadata": {},
   "outputs": [
    {
     "name": "stdout",
     "output_type": "stream",
     "text": [
      "My family member: Janardhnarao\n",
      "My family member: Lakshmi\n",
      "My family member: Mounika\n",
      "My family member: Jayasri\n",
      "My family member: Devivaraprasad\n",
      "My family member: Rajasekhar\n",
      "My family member: Balakrishna\n",
      "My family member: Rakesh\n",
      "My family member: Rangamma\n",
      "My family member: Bhanu\n"
     ]
    }
   ],
   "source": [
    "for p in family_members:\n",
    "    print(\"My family member:\",p)"
   ]
  },
  {
   "cell_type": "code",
   "execution_count": 42,
   "id": "b115f2c1-105e-44ba-b442-636b1e2fe615",
   "metadata": {},
   "outputs": [],
   "source": [
    "# 8. Create a list(food_names) with your favorite food names(atleaste 10 names only veg)?\n",
    "# print all names with in loop "
   ]
  },
  {
   "cell_type": "code",
   "execution_count": 43,
   "id": "776be528-5896-47dd-b81a-70a702ca93fe",
   "metadata": {},
   "outputs": [
    {
     "data": {
      "text/plain": [
       "['chicken',\n",
       " 'fish',\n",
       " 'egg',\n",
       " 'egg fride rice',\n",
       " 'chicken fride rice:',\n",
       " 'egg fride rice',\n",
       " 'chicken manchuriya',\n",
       " 'egg manchuriya']"
      ]
     },
     "execution_count": 43,
     "metadata": {},
     "output_type": "execute_result"
    }
   ],
   "source": [
    "food_names=[\"chicken\",\"fish\",\"egg\",\"egg fride rice\",\"chicken fride rice:\",\"egg fride rice\",\"chicken manchuriya\",\"egg manchuriya\"]\n",
    "food_names"
   ]
  },
  {
   "cell_type": "code",
   "execution_count": 44,
   "id": "85fa4051-5d1f-454b-9b7e-6a98791010be",
   "metadata": {},
   "outputs": [
    {
     "name": "stdout",
     "output_type": "stream",
     "text": [
      "Food names: chicken\n",
      "Food names: fish\n",
      "Food names: egg\n",
      "Food names: egg fride rice\n",
      "Food names: chicken fride rice:\n",
      "Food names: egg fride rice\n",
      "Food names: chicken manchuriya\n",
      "Food names: egg manchuriya\n"
     ]
    }
   ],
   "source": [
    "for q in food_names:\n",
    "    print(\"Food names:\",q)"
   ]
  },
  {
   "cell_type": "code",
   "execution_count": null,
   "id": "9752ee25-fe10-4782-b4de-961cb65fbd7e",
   "metadata": {},
   "outputs": [],
   "source": []
  },
  {
   "cell_type": "code",
   "execution_count": 45,
   "id": "e517a789-add0-45c8-aa8b-76c22d2c9c8b",
   "metadata": {},
   "outputs": [],
   "source": [
    "\n",
    "# 9. Create a tuple(food_names) with your favorite food names(atleaste 10 names only nonveg)?\n",
    "# print all names with in loop \n",
    "\n",
    "\n"
   ]
  },
  {
   "cell_type": "code",
   "execution_count": 46,
   "id": "10eac681-f681-45d6-a3c0-3e0c5358b2bb",
   "metadata": {},
   "outputs": [
    {
     "data": {
      "text/plain": [
       "('chicken',\n",
       " 'fish',\n",
       " 'egg',\n",
       " 'egg fride rice',\n",
       " 'chicken fride rice:',\n",
       " 'egg fride rice',\n",
       " 'chicken manchuriya',\n",
       " 'egg manchuriya')"
      ]
     },
     "execution_count": 46,
     "metadata": {},
     "output_type": "execute_result"
    }
   ],
   "source": [
    "food_names_tuple=(\"chicken\",\"fish\",\"egg\",\"egg fride rice\",\"chicken fride rice:\",\"egg fride rice\",\"chicken manchuriya\",\"egg manchuriya\")\n",
    "food_names_tuple"
   ]
  },
  {
   "cell_type": "code",
   "execution_count": 47,
   "id": "b753fc3e-5140-4c63-89cb-aeccb2196daf",
   "metadata": {},
   "outputs": [
    {
     "name": "stdout",
     "output_type": "stream",
     "text": [
      "food name chicken\n",
      "food name fish\n",
      "food name egg\n",
      "food name egg fride rice\n",
      "food name chicken fride rice:\n",
      "food name egg fride rice\n",
      "food name chicken manchuriya\n",
      "food name egg manchuriya\n"
     ]
    }
   ],
   "source": [
    "for t in food_names_tuple:\n",
    "    print(\"food name\",t)"
   ]
  },
  {
   "cell_type": "code",
   "execution_count": 48,
   "id": "eb940976-e222-4ce9-9ef4-737163b1cf04",
   "metadata": {},
   "outputs": [],
   "source": [
    "# 10. Create a set(colour_names) with your colour names(atleaste 10 names)?\n",
    "# print all names with in loop "
   ]
  },
  {
   "cell_type": "code",
   "execution_count": 49,
   "id": "1a4cd673-e009-4ae3-8dcd-b2230547a4c5",
   "metadata": {},
   "outputs": [
    {
     "data": {
      "text/plain": [
       "{'black',\n",
       " 'blue',\n",
       " 'brown',\n",
       " 'green',\n",
       " 'orange',\n",
       " 'pink',\n",
       " 'red',\n",
       " 'skyblue',\n",
       " 'white',\n",
       " 'yellow'}"
      ]
     },
     "execution_count": 49,
     "metadata": {},
     "output_type": "execute_result"
    }
   ],
   "source": [
    "colour_set={\"red\",\"blue\",\"green\",\"yellow\",\"red\",\"black\",\"brown\",\"skyblue\",\"pink\",\"white\",\"orange\",\"white\"}\n",
    "colour_set"
   ]
  },
  {
   "cell_type": "code",
   "execution_count": 50,
   "id": "6843d78e-dbca-4c1f-9635-5c5be4854c99",
   "metadata": {},
   "outputs": [
    {
     "name": "stdout",
     "output_type": "stream",
     "text": [
      "colour names: orange\n",
      "colour names: white\n",
      "colour names: red\n",
      "colour names: blue\n",
      "colour names: pink\n",
      "colour names: brown\n",
      "colour names: yellow\n",
      "colour names: skyblue\n",
      "colour names: black\n",
      "colour names: green\n"
     ]
    }
   ],
   "source": [
    "for r in colour_set:\n",
    "    print(\"colour names:\",r)"
   ]
  },
  {
   "cell_type": "code",
   "execution_count": 51,
   "id": "0dde5285-8365-4e49-9654-d2ada4a4420b",
   "metadata": {},
   "outputs": [
    {
     "data": {
      "text/plain": [
       "['january',\n",
       " 'february',\n",
       " 'march',\n",
       " 'april',\n",
       " 'may',\n",
       " 'june',\n",
       " 'july',\n",
       " 'august',\n",
       " 'september',\n",
       " 'octomber',\n",
       " 'november',\n",
       " 'december']"
      ]
     },
     "execution_count": 51,
     "metadata": {},
     "output_type": "execute_result"
    }
   ],
   "source": [
    "\n",
    "# 11. Create a list(month_names) with your month names(atleaste 10 names)?\n",
    "# print all names with in loop \n",
    "\n",
    "month_names=[\"january\",\"february\",\"march\",\"april\",\"may\",\"june\",\"july\",\"august\",\"september\",\"octomber\",\"november\",\"december\"]\n",
    "month_names\n"
   ]
  },
  {
   "cell_type": "code",
   "execution_count": 52,
   "id": "5b4e54c6-6c0e-4bc8-bfd5-19d78def3ccb",
   "metadata": {},
   "outputs": [
    {
     "name": "stdout",
     "output_type": "stream",
     "text": [
      "month names: january\n",
      "month names: february\n",
      "month names: march\n",
      "month names: april\n",
      "month names: may\n",
      "month names: june\n",
      "month names: july\n",
      "month names: august\n",
      "month names: september\n",
      "month names: octomber\n",
      "month names: november\n",
      "month names: december\n"
     ]
    }
   ],
   "source": [
    "for month in month_names:\n",
    "    print(\"month names:\",month)"
   ]
  },
  {
   "cell_type": "code",
   "execution_count": 53,
   "id": "3d9e8ff3-31a9-4263-920f-d269a272cc8b",
   "metadata": {},
   "outputs": [],
   "source": [
    "# 12. print 9th table (1 to 90)\n"
   ]
  },
  {
   "cell_type": "code",
   "execution_count": 54,
   "id": "4b546de2-ae91-4e87-ab6f-0e3c87b31c5d",
   "metadata": {},
   "outputs": [
    {
     "name": "stdout",
     "output_type": "stream",
     "text": [
      "9\n",
      "18\n",
      "27\n",
      "36\n",
      "45\n",
      "54\n",
      "63\n",
      "72\n",
      "81\n"
     ]
    }
   ],
   "source": [
    "for j in range(9,90,9):\n",
    "    print(j)"
   ]
  },
  {
   "cell_type": "code",
   "execution_count": null,
   "id": "533da3b9-8fc8-47a9-8ba5-a5609b4a1e0a",
   "metadata": {},
   "outputs": [],
   "source": []
  },
  {
   "cell_type": "code",
   "execution_count": 55,
   "id": "ac84ca21-2709-427e-b781-f3d3758e282c",
   "metadata": {},
   "outputs": [],
   "source": [
    "# 13. print(12th table (1 to 120)"
   ]
  },
  {
   "cell_type": "code",
   "execution_count": 56,
   "id": "7ae7e15e-dd61-4b11-a66a-567bd010517b",
   "metadata": {},
   "outputs": [
    {
     "name": "stdout",
     "output_type": "stream",
     "text": [
      "12\n",
      "24\n",
      "36\n",
      "48\n",
      "60\n",
      "72\n",
      "84\n",
      "96\n",
      "108\n"
     ]
    }
   ],
   "source": [
    "for h in range(12,120,12):\n",
    "    print(h)"
   ]
  },
  {
   "cell_type": "code",
   "execution_count": null,
   "id": "4cfbef43-ad3e-43c0-b519-8197310b9143",
   "metadata": {},
   "outputs": [],
   "source": []
  },
  {
   "cell_type": "code",
   "execution_count": null,
   "id": "98fd5aa1-c83c-439d-b084-78548ff7ee02",
   "metadata": {},
   "outputs": [],
   "source": []
  },
  {
   "cell_type": "code",
   "execution_count": 57,
   "id": "581bcc52-f8da-442a-9a64-22855249d17b",
   "metadata": {},
   "outputs": [],
   "source": [
    "#----------------Assignment 7 -------------------------"
   ]
  },
  {
   "cell_type": "code",
   "execution_count": 58,
   "id": "9acf57d9-5011-4d68-90fb-c46fbce5ce9e",
   "metadata": {},
   "outputs": [],
   "source": []
  },
  {
   "cell_type": "code",
   "execution_count": 59,
   "id": "a2d435f9-1a66-435a-a4a6-39b247100b8b",
   "metadata": {},
   "outputs": [],
   "source": [
    "# def credit_offer(salary,credit_limit):\n",
    "#     if salary<10000:\n",
    "#         credit_limit=salary*10\n",
    "#     elif salary>=10000 and salary<=30000:\n",
    "#         credit_limit=salary*20\n",
    "#     elif salary>30000:\n",
    "#         credit_limit=salary*30\n",
    "#     else:\n",
    "#         print(\"no limits\")\n",
    "#     return credit_limit"
   ]
  },
  {
   "cell_type": "code",
   "execution_count": 60,
   "id": "efd2dda9-c8b6-486b-a8dd-fb6c20117d9d",
   "metadata": {},
   "outputs": [
    {
     "data": {
      "text/plain": [
       "1200000"
      ]
     },
     "execution_count": 60,
     "metadata": {},
     "output_type": "execute_result"
    }
   ],
   "source": [
    "credit_offer(40000,10)"
   ]
  },
  {
   "cell_type": "code",
   "execution_count": null,
   "id": "530d5dd9-ddc9-4515-8018-bc0798ca7a88",
   "metadata": {},
   "outputs": [],
   "source": []
  },
  {
   "cell_type": "code",
   "execution_count": 61,
   "id": "eb03bb78-7520-49c9-be66-09661ec189f0",
   "metadata": {},
   "outputs": [],
   "source": [
    " \n",
    "#  Scenario2:\n",
    "#  DMart discount offer. \n",
    "#  if your purchase amount is less than 20000. discount is 20%.\n",
    "# if your purchase amount is 20000 to 40000. discount is 30%. \n",
    "# if your purchase amount is more than 50000. discount is 40%.\n",
    "\n",
    "# DMart తగ్గింపు ఆఫర్. మీ కొనుగోలు మొత్తం 20000 కంటే తక్కువ ఉంటే. తగ్గింపు 20%.\n",
    "# మీ కొనుగోలు మొత్తం 20000 నుండి 40000 వరకు ఉంటే. తగ్గింపు 30%. \n",
    "# మీ కొనుగోలు మొత్తం 50000 కంటే ఎక్కువ ఉంటే. తగ్గింపు 40%."
   ]
  },
  {
   "cell_type": "code",
   "execution_count": 62,
   "id": "d3d33276-ba0a-4c7f-b63d-433698197e56",
   "metadata": {},
   "outputs": [],
   "source": [
    "# def dmart(purchase_amount):\n",
    "#     if purchase_amount<=20000:\n",
    "#         blance=purchase_amount*0.2\n",
    "#     elif purchase_amount>=20000 and purchase_amount>=40000:\n",
    "#          blance=purchase_amount*0.3\n",
    "#     elif purchase_amount>=50000:\n",
    "#         blance=purchase_amount*0.4\n",
    "#         return blance\n",
    "       "
   ]
  },
  {
   "cell_type": "code",
   "execution_count": 63,
   "id": "58542064-3997-4831-9847-a82702832df6",
   "metadata": {},
   "outputs": [],
   "source": [
    "dmart(20000)"
   ]
  },
  {
   "cell_type": "code",
   "execution_count": 64,
   "id": "ea2f9210-e015-4a46-b7e1-320e3d0b21ab",
   "metadata": {},
   "outputs": [],
   "source": [
    "dmart(50001)"
   ]
  },
  {
   "cell_type": "code",
   "execution_count": 65,
   "id": "c20ac5d1-7b41-4737-85d7-fddefc52eca8",
   "metadata": {},
   "outputs": [],
   "source": [
    "dmart(18000)"
   ]
  },
  {
   "cell_type": "code",
   "execution_count": 66,
   "id": "3de34aa0-c9a5-4cdc-8709-7c40fcd479b8",
   "metadata": {},
   "outputs": [],
   "source": [
    "# def dmarts(purchase_amount):\n",
    "#     if purchase_amount<20000:\n",
    "#         blance=purchase_amount*0.2\n",
    "#     else:\n",
    "#         balance=0"
   ]
  },
  {
   "cell_type": "code",
   "execution_count": 67,
   "id": "4fcf3471-b071-4fb1-9366-7b90b2aa2d5a",
   "metadata": {},
   "outputs": [],
   "source": [
    "dmarts(10000)"
   ]
  },
  {
   "cell_type": "code",
   "execution_count": null,
   "id": "ea63c19c-d021-4298-bb93-93e5f9e701a9",
   "metadata": {},
   "outputs": [],
   "source": []
  },
  {
   "cell_type": "code",
   "execution_count": null,
   "id": "72f133af-823b-4f3e-930a-09f62c9abe40",
   "metadata": {},
   "outputs": [],
   "source": []
  },
  {
   "cell_type": "code",
   "execution_count": 68,
   "id": "f5338dd1-1021-42e2-b149-2b58024d6777",
   "metadata": {},
   "outputs": [],
   "source": [
    "dmart(5000)"
   ]
  },
  {
   "cell_type": "code",
   "execution_count": 69,
   "id": "5c1eb352-ee88-4272-813b-1138eb78517d",
   "metadata": {},
   "outputs": [],
   "source": [
    "dmart(30000)"
   ]
  },
  {
   "cell_type": "code",
   "execution_count": 70,
   "id": "97ac938f-2334-4bf9-a43b-988e11d3c3be",
   "metadata": {},
   "outputs": [],
   "source": [
    "dmart(70000)"
   ]
  },
  {
   "cell_type": "code",
   "execution_count": 71,
   "id": "7be88942-0118-4057-8135-e6d1c7882c0f",
   "metadata": {},
   "outputs": [],
   "source": [
    "dmart(20000)"
   ]
  },
  {
   "cell_type": "code",
   "execution_count": 72,
   "id": "6974514e-43f6-495c-b451-ccb4b043e026",
   "metadata": {},
   "outputs": [],
   "source": [
    "\n",
    "# Scenario3:\n",
    "# Amazom online offer. \n",
    "# if product is electoric type then 20% discount. \n",
    "# if product is cloth type then 30% discount. \n",
    "# if product is footware then 40% discount.\n",
    "# Amazom ఆన్‌లైన్ ఆఫర్.\n",
    "#  ఉత్పత్తి ఎలక్టోరిక్ రకం అయితే 20% తగ్గింపు. \n",
    "#  ఉత్పత్తి వస్త్రం రకం అయితే 30% తగ్గింపు. \n",
    "#  ఉత్పత్తి ఫుట్‌వేర్ అయితే 40% తగ్గింపు.\n"
   ]
  },
  {
   "cell_type": "code",
   "execution_count": 170,
   "id": "3fd9ab3b-bb63-4ecd-b5cc-4f3d0ea3784a",
   "metadata": {},
   "outputs": [],
   "source": [
    "def Amazon(product_type):\n",
    "    if product_type==\"Electronic\":\n",
    "        discount=0.2\n",
    "    elif product_type==\"cloth\":\n",
    "        discount=0.3\n",
    "    elif product_type==\"Footware\":\n",
    "        discount=0.4\n",
    "    return discount\n",
    "        "
   ]
  },
  {
   "cell_type": "code",
   "execution_count": null,
   "id": "29717828-0e4b-4590-9853-fbdbe576ac03",
   "metadata": {},
   "outputs": [],
   "source": []
  },
  {
   "cell_type": "code",
   "execution_count": null,
   "id": "9b873756-9222-4ee1-8ab7-43b5e07e6465",
   "metadata": {},
   "outputs": [],
   "source": []
  },
  {
   "cell_type": "code",
   "execution_count": null,
   "id": "f10c883f-ad43-4898-ab3d-fc1588fa005d",
   "metadata": {},
   "outputs": [],
   "source": []
  },
  {
   "cell_type": "code",
   "execution_count": null,
   "id": "3d02d113-f851-480f-b9b6-5f74b99e3c77",
   "metadata": {},
   "outputs": [],
   "source": []
  },
  {
   "cell_type": "code",
   "execution_count": null,
   "id": "3dc33134-d00a-463e-9b41-5893b992a172",
   "metadata": {},
   "outputs": [],
   "source": []
  },
  {
   "cell_type": "code",
   "execution_count": null,
   "id": "049162bd-649e-4c0a-a803-b4dee390628e",
   "metadata": {},
   "outputs": [],
   "source": []
  },
  {
   "cell_type": "code",
   "execution_count": null,
   "id": "9e1d8dce-80f9-4758-ac98-5352fe4ccb8b",
   "metadata": {},
   "outputs": [],
   "source": []
  },
  {
   "cell_type": "code",
   "execution_count": 172,
   "id": "24eea82f-1b3e-43c1-8df8-7e04daf18459",
   "metadata": {},
   "outputs": [
    {
     "data": {
      "text/plain": [
       "0.3"
      ]
     },
     "execution_count": 172,
     "metadata": {},
     "output_type": "execute_result"
    }
   ],
   "source": [
    "Amazon(\"cloth\")"
   ]
  },
  {
   "cell_type": "code",
   "execution_count": 176,
   "id": "5b45c500-614b-4dee-8298-6af2079c9f47",
   "metadata": {},
   "outputs": [
    {
     "data": {
      "text/plain": [
       "0.4"
      ]
     },
     "execution_count": 176,
     "metadata": {},
     "output_type": "execute_result"
    }
   ],
   "source": [
    "Amazon(\"Footware\")"
   ]
  },
  {
   "cell_type": "code",
   "execution_count": 174,
   "id": "b7d7de70-8922-46dc-a9ae-1db1366b0b63",
   "metadata": {},
   "outputs": [
    {
     "data": {
      "text/plain": [
       "0.2"
      ]
     },
     "execution_count": 174,
     "metadata": {},
     "output_type": "execute_result"
    }
   ],
   "source": [
    "Amazon(\"Electronic\")"
   ]
  }
 ],
 "metadata": {
  "kernelspec": {
   "display_name": "Python 3 (ipykernel)",
   "language": "python",
   "name": "python3"
  },
  "language_info": {
   "codemirror_mode": {
    "name": "ipython",
    "version": 3
   },
   "file_extension": ".py",
   "mimetype": "text/x-python",
   "name": "python",
   "nbconvert_exporter": "python",
   "pygments_lexer": "ipython3",
   "version": "3.12.4"
  }
 },
 "nbformat": 4,
 "nbformat_minor": 5
}
